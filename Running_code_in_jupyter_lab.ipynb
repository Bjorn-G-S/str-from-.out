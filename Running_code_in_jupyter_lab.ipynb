{
 "cells": [
  {
   "cell_type": "code",
   "execution_count": 2,
   "id": "a495b2e1-cb35-48f9-99c3-571233dc47ed",
   "metadata": {},
   "outputs": [
    {
     "data": {
      "application/vnd.jupyter.widget-view+json": {
       "model_id": "307d14bafe024d9fafb13b687105846a",
       "version_major": 2,
       "version_minor": 0
      },
      "text/plain": [
       "FloatProgress(value=0.0, bar_style='success', max=2.0, style=ProgressStyle(description_width='100px'))"
      ]
     },
     "metadata": {},
     "output_type": "display_data"
    }
   ],
   "source": [
    "from scale_class import ScaleDataExtractor\n",
    "\n",
    "\n",
    "# Fill in the correct folder into 'folder_path'\n",
    "folder_path = r'\\\\kant\\kjemi-u1\\bjorngso\\Documents\\PhD\\read_line'\n",
    "scale_extractor = ScaleDataExtractor(folder_path)\n",
    "scale_extractor.extract_data()"
   ]
  },
  {
   "cell_type": "code",
   "execution_count": null,
   "id": "6b182fa3-4672-482d-9c88-3f89e38c3ed7",
   "metadata": {},
   "outputs": [],
   "source": []
  },
  {
   "cell_type": "code",
   "execution_count": null,
   "id": "2e8f5aa9-2bc8-4add-912e-f761001f16f7",
   "metadata": {},
   "outputs": [],
   "source": []
  }
 ],
 "metadata": {
  "kernelspec": {
   "display_name": "Python 3 (ipykernel)",
   "language": "python",
   "name": "python3"
  },
  "language_info": {
   "codemirror_mode": {
    "name": "ipython",
    "version": 3
   },
   "file_extension": ".py",
   "mimetype": "text/x-python",
   "name": "python",
   "nbconvert_exporter": "python",
   "pygments_lexer": "ipython3",
   "version": "3.9.7"
  }
 },
 "nbformat": 4,
 "nbformat_minor": 5
}
