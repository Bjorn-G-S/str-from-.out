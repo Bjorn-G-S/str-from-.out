{
 "cells": [
  {
   "cell_type": "code",
   "execution_count": null,
   "id": "056ce84b-2264-4f6b-a1fa-1c07bf2267b2",
   "metadata": {},
   "outputs": [],
   "source": [
    "from scale_class_voila import ScaleDataExtractor\n",
    "\n",
    "\n",
    "\n",
    "scale_extractor = ScaleDataExtractor()\n",
    "scale_extractor"
   ]
  }
 ],
 "metadata": {
  "kernelspec": {
   "display_name": "Python 3 (ipykernel)",
   "language": "python",
   "name": "python3"
  },
  "language_info": {
   "codemirror_mode": {
    "name": "ipython",
    "version": 3
   },
   "file_extension": ".py",
   "mimetype": "text/x-python",
   "name": "python",
   "nbconvert_exporter": "python",
   "pygments_lexer": "ipython3",
   "version": "3.9.7"
  }
 },
 "nbformat": 4,
 "nbformat_minor": 5
}
